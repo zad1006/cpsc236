{
 "cells": [
  {
   "cell_type": "markdown",
   "metadata": {},
   "source": [
    "# File Input\n",
    "\n",
    "To submit this assignment in D2l, post the link to your notebook file on your GitHub account."
   ]
  },
  {
   "cell_type": "markdown",
   "metadata": {},
   "source": [
    "## 7.1 Pig Dice Rules\n",
    "Create a program that reads a list of rules from a file and displays them.\n",
    "\n",
    "### Console:\n",
    "```powershell\n",
    "Pig Dice Rules:\n",
    "*\tSee how many turns it takes you to get to 20.\n",
    "*\tTurn ends when player rolls a 1 or chooses to hold.\n",
    "*\tIf you roll a 1, you lose all points earned during the turn.\n",
    "*\tIf you hold, you save all points earned during the turn.\n",
    "```\n",
    "\n",
    "### Specifications:\n",
    "- Use the attached text file named `pig_dice_rules.txt` in the corresponding Directory.\n",
    "- Your program should read the text file and display it on the console.\n"
   ]
  },
  {
   "cell_type": "code",
   "execution_count": 2,
   "metadata": {},
   "outputs": [
    {
     "name": "stdout",
     "output_type": "stream",
     "text": [
      "Pig Dice Rules:\n",
      "* See how many turns it takes you to get to 20.\n",
      "* Turn ends when player rolls a 1 or chooses to hold.\n",
      "* If you roll a 1, you lose all points earned during the turn.\n",
      "* If you hold, you save all points earned during the turn.\n"
     ]
    }
   ],
   "source": [
    "f = open(\"pig_dice_rules.txt\" , \"r\")\n",
    "pig = f.read()\n",
    "f.close()\n",
    "print(pig)\n"
   ]
  },
  {
   "cell_type": "markdown",
   "metadata": {},
   "source": [
    "## 7.2 Wizard Inventory\n",
    "Create a program that keeps track of the items that a wizard can carry.\n",
    "\n",
    "### Console:\n",
    "```powershell\n",
    "The Wizard Inventroy Program\n",
    "\n",
    "COMMAND MENU\n",
    "walk - Walk down the path \n",
    "show - Show all items \n",
    "drop - Drop an item\n",
    "exit - Exit program\n",
    "\n",
    "Command: walk\n",
    "While walking down a path, you see a scroll of uncursing. \n",
    "Do you want to grab it? (y/n): y\n",
    "You picked up a scroll of uncursing.\n",
    "\n",
    "Command: walk\n",
    "While walking down a path, you see an unknown potion. \n",
    "Do you want to grab it? (y/n): y\n",
    "You can't carry any more items. Drop something first.\n",
    "\n",
    "Command: show\n",
    "1.\ta wooden staff\n",
    "2.\ta scroll of invisibility\n",
    "3.\ta crossbow\n",
    "4.\ta scroll of uncursing\n",
    "\n",
    "Command: drop Number: 3\n",
    "You dropped a crossbow.\n",
    "\n",
    "Command: exit \n",
    "Bye!\n",
    "```\n",
    "\n",
    "### Specifications:\n",
    "- Use the attached text file named `wizard_all_items.txt` that contains a list of all the items that a wizard can carry. (in the corresponding directory)\n",
    "- When the user selects the walk command, the program should read the items from the file, randomly pick one, and give the user the option to grab it.\n",
    "- Your program should create another file that stores the items that the wizard is carrying (`wizard_inventory.txt`). Make sure to update this file every time the user grabs or drops an item.\n",
    "- The wizard can only carry **four** items at a time.\n",
    "- For the drop command, display an error message if the user enters an invalid number for the item.\n",
    "\n"
   ]
  },
  {
   "cell_type": "code",
   "execution_count": 4,
   "metadata": {},
   "outputs": [
    {
     "name": "stdout",
     "output_type": "stream",
     "text": [
      "The Wizard Inventory Program\n",
      "\n",
      "COMMAND MENU\n",
      "walk - Walk down the path\n",
      "show - Show all items\n",
      "drop - Drop an item\n",
      "exit - Exit program\n",
      "\n"
     ]
    },
    {
     "name": "stdin",
     "output_type": "stream",
     "text": [
      "Command:  walk\n"
     ]
    },
    {
     "name": "stdout",
     "output_type": "stream",
     "text": [
      "While walking down a path, you see a wooden staff.\n"
     ]
    },
    {
     "name": "stdin",
     "output_type": "stream",
     "text": [
      "Do you want to grab it? (y/n):  y\n"
     ]
    },
    {
     "name": "stdout",
     "output_type": "stream",
     "text": [
      "You picked up a wooden staff.\n",
      "\n"
     ]
    },
    {
     "name": "stdin",
     "output_type": "stream",
     "text": [
      "Command:  show\n"
     ]
    },
    {
     "name": "stdout",
     "output_type": "stream",
     "text": [
      "1. a wooden staff\n",
      "2. an unknown potion\n",
      "3. a wizard's cloak\n",
      "4. a wooden staff\n",
      "\n"
     ]
    },
    {
     "name": "stdin",
     "output_type": "stream",
     "text": [
      "Command:  drop\n"
     ]
    },
    {
     "name": "stdout",
     "output_type": "stream",
     "text": [
      "1. a wooden staff\n",
      "2. an unknown potion\n",
      "3. a wizard's cloak\n",
      "4. a wooden staff\n",
      "\n"
     ]
    },
    {
     "name": "stdin",
     "output_type": "stream",
     "text": [
      "Number:  4\n"
     ]
    },
    {
     "name": "stdout",
     "output_type": "stream",
     "text": [
      "You dropped a wooden staff.\n",
      "\n"
     ]
    },
    {
     "name": "stdin",
     "output_type": "stream",
     "text": [
      "Command:  drop\n"
     ]
    },
    {
     "name": "stdout",
     "output_type": "stream",
     "text": [
      "1. a wooden staff\n",
      "2. an unknown potion\n",
      "3. a wizard's cloak\n",
      "\n"
     ]
    },
    {
     "name": "stdin",
     "output_type": "stream",
     "text": [
      "Number:  3\n"
     ]
    },
    {
     "name": "stdout",
     "output_type": "stream",
     "text": [
      "You dropped a wizard's cloak.\n",
      "\n"
     ]
    },
    {
     "name": "stdin",
     "output_type": "stream",
     "text": [
      "Command:  drop\n"
     ]
    },
    {
     "name": "stdout",
     "output_type": "stream",
     "text": [
      "1. a wooden staff\n",
      "2. an unknown potion\n",
      "\n"
     ]
    },
    {
     "name": "stdin",
     "output_type": "stream",
     "text": [
      "Number:  2\n"
     ]
    },
    {
     "name": "stdout",
     "output_type": "stream",
     "text": [
      "You dropped an unknown potion.\n",
      "\n"
     ]
    },
    {
     "name": "stdin",
     "output_type": "stream",
     "text": [
      "Command:  drop\n"
     ]
    },
    {
     "name": "stdout",
     "output_type": "stream",
     "text": [
      "1. a wooden staff\n",
      "\n"
     ]
    },
    {
     "name": "stdin",
     "output_type": "stream",
     "text": [
      "Number:  1\n"
     ]
    },
    {
     "name": "stdout",
     "output_type": "stream",
     "text": [
      "You dropped a wooden staff.\n",
      "\n"
     ]
    },
    {
     "name": "stdin",
     "output_type": "stream",
     "text": [
      "Command:  walk\n"
     ]
    },
    {
     "name": "stdout",
     "output_type": "stream",
     "text": [
      "While walking down a path, you see an unknown potion.\n"
     ]
    },
    {
     "name": "stdin",
     "output_type": "stream",
     "text": [
      "Do you want to grab it? (y/n):  y\n"
     ]
    },
    {
     "name": "stdout",
     "output_type": "stream",
     "text": [
      "You picked up an unknown potion.\n",
      "\n"
     ]
    },
    {
     "name": "stdin",
     "output_type": "stream",
     "text": [
      "Command:  walk\n"
     ]
    },
    {
     "name": "stdout",
     "output_type": "stream",
     "text": [
      "While walking down a path, you see a wizard's cloak.\n"
     ]
    },
    {
     "name": "stdin",
     "output_type": "stream",
     "text": [
      "Do you want to grab it? (y/n):  y\n"
     ]
    },
    {
     "name": "stdout",
     "output_type": "stream",
     "text": [
      "You picked up a wizard's cloak.\n",
      "\n"
     ]
    },
    {
     "name": "stdin",
     "output_type": "stream",
     "text": [
      "Command:  walk\n"
     ]
    },
    {
     "name": "stdout",
     "output_type": "stream",
     "text": [
      "While walking down a path, you see a crossbow.\n"
     ]
    },
    {
     "name": "stdin",
     "output_type": "stream",
     "text": [
      "Do you want to grab it? (y/n):  y\n"
     ]
    },
    {
     "name": "stdout",
     "output_type": "stream",
     "text": [
      "You picked up a crossbow.\n",
      "\n"
     ]
    },
    {
     "name": "stdin",
     "output_type": "stream",
     "text": [
      "Command:  walk\n"
     ]
    },
    {
     "name": "stdout",
     "output_type": "stream",
     "text": [
      "While walking down a path, you see some elven bread.\n"
     ]
    },
    {
     "name": "stdin",
     "output_type": "stream",
     "text": [
      "Do you want to grab it? (y/n):  y\n"
     ]
    },
    {
     "name": "stdout",
     "output_type": "stream",
     "text": [
      "You picked up some elven bread.\n",
      "\n"
     ]
    },
    {
     "name": "stdin",
     "output_type": "stream",
     "text": [
      "Command:  exit \n"
     ]
    },
    {
     "name": "stdout",
     "output_type": "stream",
     "text": [
      "Bye!\n"
     ]
    }
   ],
   "source": [
    "import random\n",
    "\n",
    "ALL_ITEMS_FILE = \"wizard_all_items.txt\"\n",
    "INVENTORY_FILE = \"wizard_inventory.txt\"\n",
    "MAX_ITEMS = 4\n",
    "\n",
    "def read_items(filename):\n",
    "    items = []\n",
    "    try:\n",
    "        with open(filename, \"r\") as file:\n",
    "            for line in file:\n",
    "                items.append(line.strip())\n",
    "    except FileNotFoundError:\n",
    "        open(filename, \"w\").close() \n",
    "    return items\n",
    "\n",
    "def write_items(filename, items):\n",
    "    with open(filename, \"w\") as file:\n",
    "        for item in items:\n",
    "            file.write(item + \"\\n\")\n",
    "\n",
    "def display_menu():\n",
    "    print(\"The Wizard Inventory Program\\n\")\n",
    "    print(\"COMMAND MENU\")\n",
    "    print(\"walk - Walk down the path\")\n",
    "    print(\"show - Show all items\")\n",
    "    print(\"drop - Drop an item\")\n",
    "    print(\"exit - Exit program\\n\")\n",
    "\n",
    "def walk(inventory, all_items):\n",
    "    if not all_items:\n",
    "        print(\"No items available to find.\\n\")\n",
    "        return\n",
    "    \n",
    "    item = random.choice(all_items)\n",
    "    print(f\"While walking down a path, you see {item}.\")\n",
    "    choice = input(\"Do you want to grab it? (y/n): \").strip().lower()\n",
    "    \n",
    "    if choice == \"y\":\n",
    "        if len(inventory) < MAX_ITEMS:\n",
    "            inventory.append(item)\n",
    "            write_items(INVENTORY_FILE, inventory)\n",
    "            print(f\"You picked up {item}.\\n\")\n",
    "        else:\n",
    "            print(\"You can't carry any more items. Drop something first.\\n\")\n",
    "\n",
    "def show_inventory(inventory):\n",
    "    if not inventory:\n",
    "        print(\"You are not carrying any items.\\n\")\n",
    "    else:\n",
    "        for i, item in enumerate(inventory, 1):\n",
    "            print(f\"{i}. {item}\")\n",
    "        print()\n",
    "\n",
    "def drop_item(inventory):\n",
    "    if not inventory:\n",
    "        print(\"You have no items to drop.\\n\")\n",
    "        return\n",
    "    \n",
    "    show_inventory(inventory)\n",
    "    try:\n",
    "        index = int(input(\"Number: \"))\n",
    "        if 1 <= index <= len(inventory):\n",
    "            removed_item = inventory.pop(index - 1)\n",
    "            write_items(INVENTORY_FILE, inventory)\n",
    "            print(f\"You dropped {removed_item}.\\n\")\n",
    "        else:\n",
    "            print(\"Invalid number.\\n\")\n",
    "    except ValueError:\n",
    "        print(\"Please enter a valid number.\\n\")\n",
    "\n",
    "def main():\n",
    "    display_menu()\n",
    "    inventory = read_items(INVENTORY_FILE)\n",
    "    all_items = read_items(ALL_ITEMS_FILE)\n",
    "    \n",
    "    while True:\n",
    "        command = input(\"Command: \").strip().lower()\n",
    "        if command == \"walk\":\n",
    "            walk(inventory, all_items)\n",
    "        elif command == \"show\":\n",
    "            show_inventory(inventory)\n",
    "        elif command == \"drop\":\n",
    "            drop_item(inventory)\n",
    "        elif command == \"exit\":\n",
    "            write_items(INVENTORY_FILE, inventory) \n",
    "            print(\"Bye!\")\n",
    "            break\n",
    "        else:\n",
    "            print(\"Not a valid command. Please try again.\\n\")\n",
    "\n",
    "if __name__ == \"__main__\":\n",
    "    main()\n"
   ]
  },
  {
   "cell_type": "markdown",
   "metadata": {},
   "source": [
    "## 7.3 Monthly Sales\n",
    "Create a program that reads the sales for 12 months from a file and calculates the total yearly sales as well as the average monthly sales. In addition, this program should let the user edit the sales for any month.\n",
    "\n",
    "### Console:\n",
    "```powershell\n",
    "Monthly Sales program\n",
    "\n",
    "COMMAND MENU\n",
    "monthly - View monthly sales \n",
    "yearly\t- View yearly sumary \n",
    "edit\t- Edit sales for a month \n",
    "exit\t- Exit program\n",
    "\n",
    "Command: monthly \n",
    "Jan - 14317\n",
    "Feb - 3903\n",
    "Mar - 1073\n",
    "Apr - 3463\n",
    "May - 2429\n",
    "Jun - 4324\n",
    "Jul - 9762\n",
    "Aug - 15578\n",
    "Sep - 2437\n",
    "Oct - 6735\n",
    "Nov - 88\n",
    "Dec - 2497\n",
    "\n",
    "Command: yearly\n",
    "Yearly total:\t66606\n",
    "Monthly average:\t5550.5\n",
    "\n",
    "Command: edit\n",
    "Three-letter Month: Nov Sales Amount: 8854\n",
    "Sales amount for Nov was modified.\n",
    "\n",
    "Command: exit Bye!\n",
    "```\n",
    "\n",
    "### Specifications:\n",
    "- Use the attached text file named CSV file named `monthly_sales.csv` that contains the month and sales data shown above.\n",
    "- For the edit command, display an error message if the user doesn’t enter a valid three-letter abbreviation for the month.\n",
    "- When the user edits the sales amount for a month, the data should be saved to the CSV file immediately. That way, no data is lost, even if the program crashes later.\n",
    "- Round the results of the monthly average to a maximum of 2 decimal digits."
   ]
  },
  {
   "cell_type": "code",
   "execution_count": 2,
   "metadata": {},
   "outputs": [
    {
     "name": "stdout",
     "output_type": "stream",
     "text": [
      "Monthly Sales Program\n",
      "\n",
      "COMMAND MENU\n",
      "monthly - View monthly sales\n",
      "yearly  - View yearly summary\n",
      "edit    - Edit sales for a month\n",
      "exit    - Exit program\n",
      "\n"
     ]
    },
    {
     "name": "stdin",
     "output_type": "stream",
     "text": [
      "Command:  monthly\n"
     ]
    },
    {
     "name": "stdout",
     "output_type": "stream",
     "text": [
      "Jan - 1555\n",
      "Feb - 3903\n",
      "Mar - 1073\n",
      "Apr - 3463\n",
      "May - 2429\n",
      "Jun - 4324\n",
      "Jul - 9762\n",
      "Aug - 15578\n",
      "Sep - 2437\n",
      "Oct - 6735\n",
      "Nov - 88\n",
      "Dec - 2497\n",
      "\n"
     ]
    },
    {
     "name": "stdin",
     "output_type": "stream",
     "text": [
      "Command:  yearly\n"
     ]
    },
    {
     "name": "stdout",
     "output_type": "stream",
     "text": [
      "Yearly total:\t53844\n",
      "Monthly average:\t4487.0\n",
      "\n"
     ]
    },
    {
     "name": "stdin",
     "output_type": "stream",
     "text": [
      "Command:  edit\n",
      "Three-letter Month:  Nov\n",
      "Sales Amount:  8854\n"
     ]
    },
    {
     "name": "stdout",
     "output_type": "stream",
     "text": [
      "Sales amount for Nov was modified.\n",
      "\n"
     ]
    },
    {
     "name": "stdin",
     "output_type": "stream",
     "text": [
      "Command:  exit\n"
     ]
    },
    {
     "name": "stdout",
     "output_type": "stream",
     "text": [
      "Bye!\n"
     ]
    }
   ],
   "source": [
    "import csv\n",
    "\n",
    "SALES_FILE = \"monthly_sales.csv\"\n",
    "MONTHS = [\"Jan\", \"Feb\", \"Mar\", \"Apr\", \"May\", \"Jun\", \"Jul\", \"Aug\", \"Sep\", \"Oct\", \"Nov\", \"Dec\"]\n",
    "\n",
    "def read_sales():\n",
    "    sales = {month: 0 for month in MONTHS}\n",
    "    try:\n",
    "        with open(SALES_FILE, \"r\") as file:\n",
    "            reader = csv.reader(file)\n",
    "            for row in reader:\n",
    "                if len(row) == 2:\n",
    "                    month, amount = row\n",
    "                    if month in MONTHS:\n",
    "                        sales[month] = int(amount)\n",
    "    except FileNotFoundError:\n",
    "        write_sales(sales) \n",
    "    return sales\n",
    "\n",
    "def write_sales(sales):\n",
    "    with open(SALES_FILE, \"w\", newline=\"\") as file:\n",
    "        writer = csv.writer(file)\n",
    "        for month, amount in sales.items():\n",
    "            writer.writerow([month, amount])\n",
    "\n",
    "def display_menu():\n",
    "    print(\"Monthly Sales Program\\n\")\n",
    "    print(\"COMMAND MENU\")\n",
    "    print(\"monthly - View monthly sales\")\n",
    "    print(\"yearly  - View yearly summary\")\n",
    "    print(\"edit    - Edit sales for a month\")\n",
    "    print(\"exit    - Exit program\\n\")\n",
    "\n",
    "def view_monthly_sales(sales):\n",
    "    for month, amount in sales.items():\n",
    "        print(f\"{month} - {amount}\")\n",
    "    print()\n",
    "\n",
    "def view_yearly_summary(sales):\n",
    "    total = sum(sales.values())\n",
    "    average = round(total / 12, 2)\n",
    "    print(f\"Yearly total:\\t{total}\")\n",
    "    print(f\"Monthly average:\\t{average}\\n\")\n",
    "\n",
    "def edit_sales(sales):\n",
    "    month = input(\"Three-letter Month: \").strip().title()\n",
    "    if month in sales:\n",
    "        try:\n",
    "            amount = int(input(\"Sales Amount: \"))\n",
    "            sales[month] = amount\n",
    "            write_sales(sales)\n",
    "            print(f\"Sales amount for {month} was modified.\\n\")\n",
    "        except ValueError:\n",
    "            print(\"Invalid sales amount. Please enter a number.\\n\")\n",
    "    else:\n",
    "        print(\"Invalid month. Please enter a valid three-letter abbreviation.\\n\")\n",
    "\n",
    "def main():\n",
    "    display_menu()\n",
    "    sales = read_sales()\n",
    "    \n",
    "    while True:\n",
    "        command = input(\"Command: \").strip().lower()\n",
    "        if command == \"monthly\":\n",
    "            view_monthly_sales(sales)\n",
    "        elif command == \"yearly\":\n",
    "            view_yearly_summary(sales)\n",
    "        elif command == \"edit\":\n",
    "            edit_sales(sales)\n",
    "        elif command == \"exit\":\n",
    "            print(\"Bye!\")\n",
    "            break\n",
    "        else:\n",
    "            print(\"Not a valid command. Please try again.\\n\")\n",
    "\n",
    "if __name__ == \"__main__\":\n",
    "    main()\n"
   ]
  },
  {
   "cell_type": "code",
   "execution_count": null,
   "metadata": {},
   "outputs": [],
   "source": []
  }
 ],
 "metadata": {
  "kernelspec": {
   "display_name": "Python [conda env:base] *",
   "language": "python",
   "name": "conda-base-py"
  },
  "language_info": {
   "codemirror_mode": {
    "name": "ipython",
    "version": 3
   },
   "file_extension": ".py",
   "mimetype": "text/x-python",
   "name": "python",
   "nbconvert_exporter": "python",
   "pygments_lexer": "ipython3",
   "version": "3.12.7"
  }
 },
 "nbformat": 4,
 "nbformat_minor": 4
}
