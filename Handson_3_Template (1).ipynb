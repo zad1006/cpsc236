{
 "cells": [
  {
   "cell_type": "markdown",
   "metadata": {},
   "source": [
    "# Functions\n",
    "\n",
    "To submit this assignment in D2l, post the link to your notebook file on your GitHub account."
   ]
  },
  {
   "cell_type": "markdown",
   "metadata": {},
   "source": [
    "## 4.1 Even or Odd Checker\n",
    "Create a program that checks whether a number is even or odd.\n",
    "\n",
    "### Console:\n",
    "```powershell\n",
    "Even or Odd Checker\n",
    "\n",
    "Enter an integer: 33\n",
    "This is an odd number.\n",
    "```\n",
    "\n",
    "### Specifications:\n",
    "- Store the code that gets user input and displays output in the main function.\n",
    "- Store the code that checks whether the number is even or odd in a separate function.\n",
    "- Assume that the user will enter a valid integer.\n"
   ]
  },
  {
   "cell_type": "code",
   "execution_count": 4,
   "metadata": {},
   "outputs": [
    {
     "name": "stdout",
     "output_type": "stream",
     "text": [
      "Even or Odd Checker\n"
     ]
    },
    {
     "name": "stdin",
     "output_type": "stream",
     "text": [
      "Enter a number:  100\n"
     ]
    },
    {
     "name": "stdout",
     "output_type": "stream",
     "text": [
      "This is an even number.\n"
     ]
    }
   ],
   "source": [
    "def even(number):\n",
    "\n",
    "    return number % 2 == 0\n",
    "\n",
    "def main():\n",
    "    print(\"Even or Odd Checker\")\n",
    "    num = int(input(\"Enter a number: \"))\n",
    "    \n",
    "    if even(num):\n",
    "        print(\"This is an even number.\")\n",
    "    else:\n",
    "        print(\"This is an odd number.\")\n",
    "\n",
    "\n",
    "main()\n"
   ]
  },
  {
   "cell_type": "markdown",
   "metadata": {},
   "source": [
    "## 4.2 - Feet and Meters Converter\n",
    "Create a program that converts feet to meters and vice versa.\n",
    "\n",
    "### Console\n",
    "```powershell\n",
    "Feet and Meters Converter\n",
    "\n",
    "Conversions Menu:\n",
    "a.\tFeet to Meters\n",
    "b.\tMeters to Feet\n",
    "Select a conversion (a/b): a\n",
    "\n",
    "Enter feet: 100\n",
    "30.48 meters\n",
    "\n",
    "Would you like to perform another conversion? (y/n): y \n",
    "\n",
    "Conversions Menu:\n",
    "a.\tFeet to Meters\n",
    "b.\tMeters to Feet\n",
    "Select a conversion (a/b): b\n",
    "\n",
    "Enter meters: 100\n",
    "328.08 feet\n",
    "\n",
    "Would you like to perform another conversion? (y/n): n\n",
    "\n",
    "Thanks, bye!\n",
    "```\n",
    "\n",
    "### Specifications:\n",
    "- The formula for converting feet to meters is:\n",
    "`feet = meters / 0.3048`\n",
    "\n",
    "- The formula for converting meters to feet is:\n",
    "`meters = feet * 0.3048`\n",
    "\n",
    "- Store the code that performs the conversions in functions within a module. For example, store the code that converts feet to meters in a function in a module.\n",
    "- Store the code that displays the title in its own function, and store the code that displays the menu in its own function, but store the rest of the code that gets input and displays output in a main function.\n",
    "- Assume the user will enter valid data.\n",
    "- The program should round results to a maximum of two decimal places.\n",
    "\n",
    "\n"
   ]
  },
  {
   "cell_type": "code",
   "execution_count": 6,
   "metadata": {},
   "outputs": [
    {
     "name": "stdout",
     "output_type": "stream",
     "text": [
      "Feet and Meters converter\n",
      "\n",
      "Conversions Menu:\n",
      "a. Feet to Meters\n",
      "b. Meters to Feet\n"
     ]
    },
    {
     "name": "stdin",
     "output_type": "stream",
     "text": [
      "select a conversion a/b?: a\n",
      "Feet: 100\n"
     ]
    },
    {
     "name": "stdout",
     "output_type": "stream",
     "text": [
      "meters=30.48\n"
     ]
    },
    {
     "name": "stdin",
     "output_type": "stream",
     "text": [
      "Would you like to perform another conversion?y/n: n\n"
     ]
    },
    {
     "name": "stdout",
     "output_type": "stream",
     "text": [
      "Bye,Thanks!\n"
     ]
    }
   ],
   "source": [
    "def feet_meters(feet):\n",
    "    \n",
    "    return feet*0.3048\n",
    "def meters_feet(meters):\n",
    "\n",
    "    return meters/0.3048\n",
    "\n",
    "def selection():\n",
    "    print(\"\\nConversions Menu:\")\n",
    "    print(\"a. Feet to Meters\")\n",
    "    print(\"b. Meters to Feet\")\n",
    "    select=input(\"select a conversion a/b?:\")\n",
    "    return select.lower()\n",
    "    \n",
    "    \n",
    "def main():\n",
    "    cont = \"y\"\n",
    "    while cont.lower() == \"y\":\n",
    "        print(\"Feet and Meters converter\")\n",
    "        select = selection()\n",
    "        if select == \"a\":\n",
    "            feet=int(input(\"Feet:\"))\n",
    "            print(f\"meters={round(feet_meters(feet), 2)}\")\n",
    "        else:\n",
    "            meters=int(input(\"Meters:\"))\n",
    "            print(f\"feet={round(meters_feet(meters), 2)}\")\n",
    "        cont=input(\"Would you like to perform another conversion?y/n:\")\n",
    "        pass\n",
    "    print(\"Bye,Thanks!\")\n",
    "        \n",
    "            \n",
    "main()"
   ]
  },
  {
   "cell_type": "markdown",
   "metadata": {},
   "source": [
    "## 4.3 - Sales Tax Calculator\n",
    "Create a program that uses a separate module to calculate sales tax and total after tax.\n",
    "\n",
    "### Console\n",
    "```powershell\n",
    "Sales Tax Calculator\n",
    "\n",
    "ENTER ITEMS (ENTER 0 TO END)\n",
    "Cost of item: 35.99 \n",
    "Cost of item: 27.50 \n",
    "Cost of item: 19.59 \n",
    "Cost of item: 0 \n",
    "Total:  83.08\n",
    "Sales tax:\t4.98\n",
    "Total after tax: 88.06 \n",
    "\n",
    "Again? (y/n): y\n",
    "\n",
    "ENTER ITEMS (ENTER 0 TO END)\n",
    "Cost of item: 152.50 \n",
    "Cost of item: 59.80 \n",
    "Cost of item: 0\n",
    "Total:  212.3\n",
    "Sales tax:\t12.74\n",
    "Total after tax: 225.04 \n",
    "\n",
    "Again? (y/n): n\n",
    "\n",
    "Thanks, bye!\n",
    "\n",
    "```\n",
    "\n",
    "### Specifications\n",
    "- The sales tax rate should be 6% of the total.\n",
    "- Store the sales tax rate in a module. This module should also contain functions that calculate the sales tax and the total after tax. These functions should round the results to a maximum of two decimal places. Upload the seperate sales tax module to your GitHub repo when submitting.\n",
    "- Store the code that gets input and displays output in this notebook. Divide this code into functions wherever you think it would make that code easier to read and maintain.\n",
    "- Assume the user will enter valid data.\n",
    "\n"
   ]
  },
  {
   "cell_type": "code",
   "execution_count": 14,
   "metadata": {},
   "outputs": [
    {
     "name": "stdout",
     "output_type": "stream",
     "text": [
      "Sales Tax Calculator\n",
      "Enter items (Enter 0 to end)\n"
     ]
    },
    {
     "name": "stdin",
     "output_type": "stream",
     "text": [
      "Cost of item:  100\n",
      "Cost of item:  200\n",
      "Cost of item:  0\n"
     ]
    },
    {
     "name": "stdout",
     "output_type": "stream",
     "text": [
      "\n",
      "Total: 300.0\n",
      "Sales tax: 18.0\n",
      "Total after tax: 318.0\n"
     ]
    },
    {
     "name": "stdin",
     "output_type": "stream",
     "text": [
      "Again? (y/n):  y\n"
     ]
    },
    {
     "name": "stdout",
     "output_type": "stream",
     "text": [
      "Sales Tax Calculator\n",
      "Enter items (Enter 0 to end)\n"
     ]
    },
    {
     "name": "stdin",
     "output_type": "stream",
     "text": [
      "Cost of item:  0\n"
     ]
    },
    {
     "name": "stdout",
     "output_type": "stream",
     "text": [
      "\n",
      "Total: 0.0\n",
      "Sales tax: 0.0\n",
      "Total after tax: 0.0\n"
     ]
    },
    {
     "name": "stdin",
     "output_type": "stream",
     "text": [
      "Again? (y/n):  n\n"
     ]
    },
    {
     "name": "stdout",
     "output_type": "stream",
     "text": [
      "Thanks, bye!\n"
     ]
    }
   ],
   "source": [
    "TAX_RATE = 0.06  \n",
    "\n",
    "def sales_tax(total):\n",
    "    \n",
    "    return round(total * TAX_RATE, 2)\n",
    "\n",
    "def total_after_tax(total):\n",
    "    \n",
    "    return round(total + sales_tax(total), 2)\n",
    "\n",
    "def get_total():\n",
    "    \n",
    "    total = 0.0\n",
    "    print(\"Enter items (Enter 0 to end)\")\n",
    "    \n",
    "    while True:\n",
    "        cost = float(input(\"Cost of item: \"))\n",
    "        if cost == 0:\n",
    "            break\n",
    "        total += cost\n",
    "    \n",
    "    return round(total, 2)\n",
    "\n",
    "def main():\n",
    "    \n",
    "    cont = \"y\"\n",
    "    while cont.lower() == \"y\":\n",
    "        print(\"Sales Tax Calculator\")\n",
    "        total = get_total()\n",
    "        \n",
    "        print(f\"\\nTotal: {total}\")\n",
    "        print(f\"Sales tax: {sales_tax(total)}\")\n",
    "        print(f\"Total after tax: {total_after_tax(total)}\")\n",
    "\n",
    "        cont = input(\"Again? (y/n): \")\n",
    "        pass \n",
    "    \n",
    "    print(\"Thanks, bye!\")\n",
    "\n",
    "main()\n"
   ]
  },
  {
   "cell_type": "markdown",
   "metadata": {},
   "source": [
    "## 4.4 - Prime Number Checker\n",
    "Create a program that checks whether a number is a prime number and displays the total number of factors if it is not a prime number.\n",
    "\n",
    "### Console\n",
    "```powershell\n",
    "Prime Number Checker\n",
    "\n",
    "Please enter an integer between 1 and 5000: 1 \n",
    "Invalid integer. Please try again.\n",
    "Please enter an integer between 1 and 5000: 2\n",
    "2 is a prime number. \n",
    "\n",
    "Try again? (y/n): y\n",
    "\n",
    "Please enter an integer between 1 and 5000: 3\n",
    "3 is a prime number.\n",
    "\n",
    "Try again? (y/n): y\n",
    "\n",
    "Please enter an integer between 1 and 5000: 4\n",
    "4 is NOT a prime number.\n",
    "It has 3 factors.\n",
    "\n",
    "Try again? (y/n): y\n",
    "\n",
    "Please enter an integer between 1 and 5000: 6\n",
    "6 is NOT a prime number.\n",
    "It has 4 factors.\n",
    "\n",
    "Try again? (y/n): n\n",
    "\n",
    "Bye!\n",
    "```\n",
    "\n",
    "### Specifications\n",
    "- A prime number is only divisible by two factors (1 and itself). For example, 7 is a prime number because it is only divisible by 1 and 7.\n",
    "- If the number is not a prime number, the program should display its number of factors. For example, 6 has four factors (1, 2, 3, and 6).\n",
    "- Store the code that gets a valid integer for this program in its own function.\n",
    "- Store the code that calculates the number of factors for a number in its own function.\n",
    "- Store the rest of the code that gets input and displays output in the main function.\n",
    "\n"
   ]
  },
  {
   "cell_type": "code",
   "execution_count": 18,
   "metadata": {},
   "outputs": [
    {
     "name": "stdin",
     "output_type": "stream",
     "text": [
      "Please enter an integer between 1 and 5000:  4\n"
     ]
    },
    {
     "name": "stdout",
     "output_type": "stream",
     "text": [
      "4 is NOT a prime number.\n",
      "It has 3 factors: [1, 2, 4]\n"
     ]
    },
    {
     "name": "stdin",
     "output_type": "stream",
     "text": [
      "Try again? (y/n):  y\n",
      "Please enter an integer between 1 and 5000:  6\n"
     ]
    },
    {
     "name": "stdout",
     "output_type": "stream",
     "text": [
      "6 is NOT a prime number.\n",
      "It has 4 factors: [1, 2, 3, 6]\n"
     ]
    },
    {
     "name": "stdin",
     "output_type": "stream",
     "text": [
      "Try again? (y/n):  n\n"
     ]
    },
    {
     "name": "stdout",
     "output_type": "stream",
     "text": [
      "Bye!\n"
     ]
    }
   ],
   "source": [
    "def get_valid_integer():\n",
    "    \n",
    "    while True:\n",
    "        try:\n",
    "            number = int(input(\"Please enter an integer between 1 and 5000: \"))\n",
    "            if 1 <= number <= 5000:\n",
    "                return number\n",
    "            else:\n",
    "                print(\"Error invalid integer.\")\n",
    "        except ValueError:\n",
    "            print(\"Enter a number between 1 and 5000.\")\n",
    "\n",
    "def calculate_factors(number):\n",
    "    \n",
    "    factors = []\n",
    "    for i in range(1, number + 1):\n",
    "        if number % i == 0:\n",
    "            factors.append(i)\n",
    "    return len(factors), factors \n",
    "\n",
    "def check_prime(number):\n",
    "   \n",
    "    if number == 1:\n",
    "        return False \n",
    "    for i in range(2, int(number**0.5) + 1):\n",
    "        if number % i == 0:\n",
    "            return False\n",
    "    return True\n",
    "\n",
    "def main():\n",
    "    \n",
    "    cont = \"y\"\n",
    "    while cont.lower() == \"y\":\n",
    "        number = get_valid_integer()\n",
    "\n",
    "        if check_prime(number):\n",
    "            print(f\"{number} is a prime number.\")\n",
    "        else:\n",
    "            factors_count, factors = calculate_factors(number)\n",
    "            print(f\"{number} is NOT a prime number.\")\n",
    "            print(f\"It has {factors_count} factors: {factors}\")\n",
    "\n",
    "        cont = input(\"Try again? (y/n): \")\n",
    "        pass \n",
    "\n",
    "    print(\"Bye!\")\n",
    "\n",
    "main()\n"
   ]
  }
 ],
 "metadata": {
  "kernelspec": {
   "display_name": "Python [conda env:base] *",
   "language": "python",
   "name": "conda-base-py"
  },
  "language_info": {
   "codemirror_mode": {
    "name": "ipython",
    "version": 3
   },
   "file_extension": ".py",
   "mimetype": "text/x-python",
   "name": "python",
   "nbconvert_exporter": "python",
   "pygments_lexer": "ipython3",
   "version": "3.12.7"
  }
 },
 "nbformat": 4,
 "nbformat_minor": 4
}
